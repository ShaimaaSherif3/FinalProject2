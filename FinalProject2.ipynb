{
  "nbformat": 4,
  "nbformat_minor": 0,
  "metadata": {
    "colab": {
      "provenance": []
    },
    "kernelspec": {
      "name": "python3",
      "display_name": "Python 3"
    },
    "language_info": {
      "name": "python"
    }
  },
  "cells": [
    {
      "cell_type": "markdown",
      "source": [
        "**Data** **Reading**"
      ],
      "metadata": {
        "id": "a2Avv48Zn7rx"
      }
    },
    {
      "cell_type": "code",
      "source": [
        "import pandas as pd"
      ],
      "metadata": {
        "id": "gBwrv9NhsVxB"
      },
      "execution_count": 25,
      "outputs": []
    },
    {
      "cell_type": "code",
      "source": [
        "file_path = \"/content/E-commerce_data.xlsx\"\n",
        "xls = pd.ExcelFile(file_path)\n",
        "xls"
      ],
      "metadata": {
        "colab": {
          "base_uri": "https://localhost:8080/"
        },
        "id": "nTzXLOufudL9",
        "outputId": "ffa3a10e-2e6d-4435-c44e-8f88a7564d9a"
      },
      "execution_count": 26,
      "outputs": [
        {
          "output_type": "execute_result",
          "data": {
            "text/plain": [
              "<pandas.io.excel._base.ExcelFile at 0x789564288610>"
            ]
          },
          "metadata": {},
          "execution_count": 26
        }
      ]
    },
    {
      "cell_type": "code",
      "source": [
        "# Read all tables in the file\n",
        "customers = pd.read_excel(xls, \"customers\")\n",
        "genders = pd.read_excel(xls, \"genders\")\n",
        "cities = pd.read_excel(xls, \"cities\")\n",
        "transactions = pd.read_excel(xls, \"transactions\")\n",
        "branches = pd.read_excel(xls, \"branches\")\n",
        "merchants = pd.read_excel(xls, \"merchants\")"
      ],
      "metadata": {
        "id": "DfaLEDlUurQm"
      },
      "execution_count": 30,
      "outputs": []
    },
    {
      "cell_type": "code",
      "source": [
        "#Show the first five rows\n",
        "customers.head(), transactions.head()"
      ],
      "metadata": {
        "colab": {
          "base_uri": "https://localhost:8080/"
        },
        "id": "qE7LE7yPutOr",
        "outputId": "18ac5c8c-266a-4834-b7c6-cd3f959dcdb3"
      },
      "execution_count": 31,
      "outputs": [
        {
          "output_type": "execute_result",
          "data": {
            "text/plain": [
              "(   customer_id  join_date  city_id  gender_id\n",
              " 0            1 2022-01-08        7          1\n",
              " 1            2 2023-05-02       20          2\n",
              " 2            3 2023-05-14       15          1\n",
              " 3            4 2022-11-25       11          2\n",
              " 4            5 2023-04-26        8          1,\n",
              "    transaction_id  customer_id transaction_date  ... coupon_name  burn_date branch_id\n",
              " 0               1          733       2024-05-11  ...     uNY-568        NaT         7\n",
              " 1               2          631       2023-05-15  ...     kBx-219 2023-06-04         5\n",
              " 2               3          309       2022-11-13  ...     PLG-122        NaT         7\n",
              " 3               4          695       2024-01-26  ...     Wzf-897        NaT         2\n",
              " 4               5          288       2022-10-12  ...     qGb-428 2022-11-20         6\n",
              " \n",
              " [5 rows x 7 columns])"
            ]
          },
          "metadata": {},
          "execution_count": 31
        }
      ]
    },
    {
      "cell_type": "markdown",
      "source": [
        "**Merge data into a single table**"
      ],
      "metadata": {
        "id": "NFcG86CZsXjD"
      }
    },
    {
      "cell_type": "code",
      "source": [
        "# Integrating customer data with Gender and City\n",
        "customers = customers.merge(genders, on=\"gender_id\", how=\"left\")\n",
        "customers = customers.merge(cities, on=\"city_id\", how=\"left\")"
      ],
      "metadata": {
        "id": "G91vnoSJyvFA"
      },
      "execution_count": 36,
      "outputs": []
    },
    {
      "cell_type": "code",
      "source": [
        "# Merge transaction data with branches\n",
        "transactions = transactions.merge(branches, on=\"branch_id\", how=\"left\")"
      ],
      "metadata": {
        "id": "zBRwxjGozAXN"
      },
      "execution_count": 37,
      "outputs": []
    },
    {
      "cell_type": "code",
      "source": [
        "# Integrate customer data with transactions\n",
        "full_data = transactions.merge(customers, on=\"customer_id\", how=\"left\")"
      ],
      "metadata": {
        "id": "0gNe2lBwzFAd"
      },
      "execution_count": 38,
      "outputs": []
    },
    {
      "cell_type": "code",
      "source": [
        "# Display final data\n",
        "full_data.head()"
      ],
      "metadata": {
        "colab": {
          "base_uri": "https://localhost:8080/",
          "height": 313
        },
        "id": "JpuzY39IzFJN",
        "outputId": "6ed95272-767e-4680-b9b1-04638d7f6297"
      },
      "execution_count": 39,
      "outputs": [
        {
          "output_type": "execute_result",
          "data": {
            "text/plain": [
              "   transaction_id  customer_id transaction_date  ... city_name_x gender_name_y city_name_y\n",
              "0               1          733       2024-05-11  ...       Aswan        Female       Aswan\n",
              "1               2          631       2023-05-15  ...    Damietta        Female    Damietta\n",
              "2               3          309       2022-11-13  ...  Alexandria          Male  Alexandria\n",
              "3               4          695       2024-01-26  ...       Aswan        Female       Aswan\n",
              "4               5          288       2022-10-12  ...    Damietta          Male    Damietta\n",
              "\n",
              "[5 rows x 16 columns]"
            ],
            "text/html": [
              "\n",
              "  <div id=\"df-4c904252-8117-40ea-bce1-3a52f2d57a72\" class=\"colab-df-container\">\n",
              "    <div>\n",
              "<style scoped>\n",
              "    .dataframe tbody tr th:only-of-type {\n",
              "        vertical-align: middle;\n",
              "    }\n",
              "\n",
              "    .dataframe tbody tr th {\n",
              "        vertical-align: top;\n",
              "    }\n",
              "\n",
              "    .dataframe thead th {\n",
              "        text-align: right;\n",
              "    }\n",
              "</style>\n",
              "<table border=\"1\" class=\"dataframe\">\n",
              "  <thead>\n",
              "    <tr style=\"text-align: right;\">\n",
              "      <th></th>\n",
              "      <th>transaction_id</th>\n",
              "      <th>customer_id</th>\n",
              "      <th>transaction_date</th>\n",
              "      <th>transaction_status</th>\n",
              "      <th>coupon_name</th>\n",
              "      <th>burn_date</th>\n",
              "      <th>branch_id</th>\n",
              "      <th>merchant_id_x</th>\n",
              "      <th>merchant_id_y</th>\n",
              "      <th>join_date</th>\n",
              "      <th>city_id</th>\n",
              "      <th>gender_id</th>\n",
              "      <th>gender_name_x</th>\n",
              "      <th>city_name_x</th>\n",
              "      <th>gender_name_y</th>\n",
              "      <th>city_name_y</th>\n",
              "    </tr>\n",
              "  </thead>\n",
              "  <tbody>\n",
              "    <tr>\n",
              "      <th>0</th>\n",
              "      <td>1</td>\n",
              "      <td>733</td>\n",
              "      <td>2024-05-11</td>\n",
              "      <td>subscribed</td>\n",
              "      <td>uNY-568</td>\n",
              "      <td>NaT</td>\n",
              "      <td>7</td>\n",
              "      <td>7</td>\n",
              "      <td>7</td>\n",
              "      <td>2023-05-16</td>\n",
              "      <td>15</td>\n",
              "      <td>2</td>\n",
              "      <td>Female</td>\n",
              "      <td>Aswan</td>\n",
              "      <td>Female</td>\n",
              "      <td>Aswan</td>\n",
              "    </tr>\n",
              "    <tr>\n",
              "      <th>1</th>\n",
              "      <td>2</td>\n",
              "      <td>631</td>\n",
              "      <td>2023-05-15</td>\n",
              "      <td>burned</td>\n",
              "      <td>kBx-219</td>\n",
              "      <td>2023-06-04</td>\n",
              "      <td>5</td>\n",
              "      <td>9</td>\n",
              "      <td>9</td>\n",
              "      <td>2022-10-10</td>\n",
              "      <td>14</td>\n",
              "      <td>2</td>\n",
              "      <td>Female</td>\n",
              "      <td>Damietta</td>\n",
              "      <td>Female</td>\n",
              "      <td>Damietta</td>\n",
              "    </tr>\n",
              "    <tr>\n",
              "      <th>2</th>\n",
              "      <td>3</td>\n",
              "      <td>309</td>\n",
              "      <td>2022-11-13</td>\n",
              "      <td>subscribed</td>\n",
              "      <td>PLG-122</td>\n",
              "      <td>NaT</td>\n",
              "      <td>7</td>\n",
              "      <td>7</td>\n",
              "      <td>7</td>\n",
              "      <td>2022-05-30</td>\n",
              "      <td>2</td>\n",
              "      <td>1</td>\n",
              "      <td>Male</td>\n",
              "      <td>Alexandria</td>\n",
              "      <td>Male</td>\n",
              "      <td>Alexandria</td>\n",
              "    </tr>\n",
              "    <tr>\n",
              "      <th>3</th>\n",
              "      <td>4</td>\n",
              "      <td>695</td>\n",
              "      <td>2024-01-26</td>\n",
              "      <td>subscribed</td>\n",
              "      <td>Wzf-897</td>\n",
              "      <td>NaT</td>\n",
              "      <td>2</td>\n",
              "      <td>18</td>\n",
              "      <td>18</td>\n",
              "      <td>2023-11-27</td>\n",
              "      <td>15</td>\n",
              "      <td>2</td>\n",
              "      <td>Female</td>\n",
              "      <td>Aswan</td>\n",
              "      <td>Female</td>\n",
              "      <td>Aswan</td>\n",
              "    </tr>\n",
              "    <tr>\n",
              "      <th>4</th>\n",
              "      <td>5</td>\n",
              "      <td>288</td>\n",
              "      <td>2022-10-12</td>\n",
              "      <td>burned</td>\n",
              "      <td>qGb-428</td>\n",
              "      <td>2022-11-20</td>\n",
              "      <td>6</td>\n",
              "      <td>15</td>\n",
              "      <td>15</td>\n",
              "      <td>2021-09-04</td>\n",
              "      <td>14</td>\n",
              "      <td>1</td>\n",
              "      <td>Male</td>\n",
              "      <td>Damietta</td>\n",
              "      <td>Male</td>\n",
              "      <td>Damietta</td>\n",
              "    </tr>\n",
              "  </tbody>\n",
              "</table>\n",
              "</div>\n",
              "    <div class=\"colab-df-buttons\">\n",
              "\n",
              "  <div class=\"colab-df-container\">\n",
              "    <button class=\"colab-df-convert\" onclick=\"convertToInteractive('df-4c904252-8117-40ea-bce1-3a52f2d57a72')\"\n",
              "            title=\"Convert this dataframe to an interactive table.\"\n",
              "            style=\"display:none;\">\n",
              "\n",
              "  <svg xmlns=\"http://www.w3.org/2000/svg\" height=\"24px\" viewBox=\"0 -960 960 960\">\n",
              "    <path d=\"M120-120v-720h720v720H120Zm60-500h600v-160H180v160Zm220 220h160v-160H400v160Zm0 220h160v-160H400v160ZM180-400h160v-160H180v160Zm440 0h160v-160H620v160ZM180-180h160v-160H180v160Zm440 0h160v-160H620v160Z\"/>\n",
              "  </svg>\n",
              "    </button>\n",
              "\n",
              "  <style>\n",
              "    .colab-df-container {\n",
              "      display:flex;\n",
              "      gap: 12px;\n",
              "    }\n",
              "\n",
              "    .colab-df-convert {\n",
              "      background-color: #E8F0FE;\n",
              "      border: none;\n",
              "      border-radius: 50%;\n",
              "      cursor: pointer;\n",
              "      display: none;\n",
              "      fill: #1967D2;\n",
              "      height: 32px;\n",
              "      padding: 0 0 0 0;\n",
              "      width: 32px;\n",
              "    }\n",
              "\n",
              "    .colab-df-convert:hover {\n",
              "      background-color: #E2EBFA;\n",
              "      box-shadow: 0px 1px 2px rgba(60, 64, 67, 0.3), 0px 1px 3px 1px rgba(60, 64, 67, 0.15);\n",
              "      fill: #174EA6;\n",
              "    }\n",
              "\n",
              "    .colab-df-buttons div {\n",
              "      margin-bottom: 4px;\n",
              "    }\n",
              "\n",
              "    [theme=dark] .colab-df-convert {\n",
              "      background-color: #3B4455;\n",
              "      fill: #D2E3FC;\n",
              "    }\n",
              "\n",
              "    [theme=dark] .colab-df-convert:hover {\n",
              "      background-color: #434B5C;\n",
              "      box-shadow: 0px 1px 3px 1px rgba(0, 0, 0, 0.15);\n",
              "      filter: drop-shadow(0px 1px 2px rgba(0, 0, 0, 0.3));\n",
              "      fill: #FFFFFF;\n",
              "    }\n",
              "  </style>\n",
              "\n",
              "    <script>\n",
              "      const buttonEl =\n",
              "        document.querySelector('#df-4c904252-8117-40ea-bce1-3a52f2d57a72 button.colab-df-convert');\n",
              "      buttonEl.style.display =\n",
              "        google.colab.kernel.accessAllowed ? 'block' : 'none';\n",
              "\n",
              "      async function convertToInteractive(key) {\n",
              "        const element = document.querySelector('#df-4c904252-8117-40ea-bce1-3a52f2d57a72');\n",
              "        const dataTable =\n",
              "          await google.colab.kernel.invokeFunction('convertToInteractive',\n",
              "                                                    [key], {});\n",
              "        if (!dataTable) return;\n",
              "\n",
              "        const docLinkHtml = 'Like what you see? Visit the ' +\n",
              "          '<a target=\"_blank\" href=https://colab.research.google.com/notebooks/data_table.ipynb>data table notebook</a>'\n",
              "          + ' to learn more about interactive tables.';\n",
              "        element.innerHTML = '';\n",
              "        dataTable['output_type'] = 'display_data';\n",
              "        await google.colab.output.renderOutput(dataTable, element);\n",
              "        const docLink = document.createElement('div');\n",
              "        docLink.innerHTML = docLinkHtml;\n",
              "        element.appendChild(docLink);\n",
              "      }\n",
              "    </script>\n",
              "  </div>\n",
              "\n",
              "\n",
              "<div id=\"df-be9ad9be-034b-485a-a10b-522924a78b91\">\n",
              "  <button class=\"colab-df-quickchart\" onclick=\"quickchart('df-be9ad9be-034b-485a-a10b-522924a78b91')\"\n",
              "            title=\"Suggest charts\"\n",
              "            style=\"display:none;\">\n",
              "\n",
              "<svg xmlns=\"http://www.w3.org/2000/svg\" height=\"24px\"viewBox=\"0 0 24 24\"\n",
              "     width=\"24px\">\n",
              "    <g>\n",
              "        <path d=\"M19 3H5c-1.1 0-2 .9-2 2v14c0 1.1.9 2 2 2h14c1.1 0 2-.9 2-2V5c0-1.1-.9-2-2-2zM9 17H7v-7h2v7zm4 0h-2V7h2v10zm4 0h-2v-4h2v4z\"/>\n",
              "    </g>\n",
              "</svg>\n",
              "  </button>\n",
              "\n",
              "<style>\n",
              "  .colab-df-quickchart {\n",
              "      --bg-color: #E8F0FE;\n",
              "      --fill-color: #1967D2;\n",
              "      --hover-bg-color: #E2EBFA;\n",
              "      --hover-fill-color: #174EA6;\n",
              "      --disabled-fill-color: #AAA;\n",
              "      --disabled-bg-color: #DDD;\n",
              "  }\n",
              "\n",
              "  [theme=dark] .colab-df-quickchart {\n",
              "      --bg-color: #3B4455;\n",
              "      --fill-color: #D2E3FC;\n",
              "      --hover-bg-color: #434B5C;\n",
              "      --hover-fill-color: #FFFFFF;\n",
              "      --disabled-bg-color: #3B4455;\n",
              "      --disabled-fill-color: #666;\n",
              "  }\n",
              "\n",
              "  .colab-df-quickchart {\n",
              "    background-color: var(--bg-color);\n",
              "    border: none;\n",
              "    border-radius: 50%;\n",
              "    cursor: pointer;\n",
              "    display: none;\n",
              "    fill: var(--fill-color);\n",
              "    height: 32px;\n",
              "    padding: 0;\n",
              "    width: 32px;\n",
              "  }\n",
              "\n",
              "  .colab-df-quickchart:hover {\n",
              "    background-color: var(--hover-bg-color);\n",
              "    box-shadow: 0 1px 2px rgba(60, 64, 67, 0.3), 0 1px 3px 1px rgba(60, 64, 67, 0.15);\n",
              "    fill: var(--button-hover-fill-color);\n",
              "  }\n",
              "\n",
              "  .colab-df-quickchart-complete:disabled,\n",
              "  .colab-df-quickchart-complete:disabled:hover {\n",
              "    background-color: var(--disabled-bg-color);\n",
              "    fill: var(--disabled-fill-color);\n",
              "    box-shadow: none;\n",
              "  }\n",
              "\n",
              "  .colab-df-spinner {\n",
              "    border: 2px solid var(--fill-color);\n",
              "    border-color: transparent;\n",
              "    border-bottom-color: var(--fill-color);\n",
              "    animation:\n",
              "      spin 1s steps(1) infinite;\n",
              "  }\n",
              "\n",
              "  @keyframes spin {\n",
              "    0% {\n",
              "      border-color: transparent;\n",
              "      border-bottom-color: var(--fill-color);\n",
              "      border-left-color: var(--fill-color);\n",
              "    }\n",
              "    20% {\n",
              "      border-color: transparent;\n",
              "      border-left-color: var(--fill-color);\n",
              "      border-top-color: var(--fill-color);\n",
              "    }\n",
              "    30% {\n",
              "      border-color: transparent;\n",
              "      border-left-color: var(--fill-color);\n",
              "      border-top-color: var(--fill-color);\n",
              "      border-right-color: var(--fill-color);\n",
              "    }\n",
              "    40% {\n",
              "      border-color: transparent;\n",
              "      border-right-color: var(--fill-color);\n",
              "      border-top-color: var(--fill-color);\n",
              "    }\n",
              "    60% {\n",
              "      border-color: transparent;\n",
              "      border-right-color: var(--fill-color);\n",
              "    }\n",
              "    80% {\n",
              "      border-color: transparent;\n",
              "      border-right-color: var(--fill-color);\n",
              "      border-bottom-color: var(--fill-color);\n",
              "    }\n",
              "    90% {\n",
              "      border-color: transparent;\n",
              "      border-bottom-color: var(--fill-color);\n",
              "    }\n",
              "  }\n",
              "</style>\n",
              "\n",
              "  <script>\n",
              "    async function quickchart(key) {\n",
              "      const quickchartButtonEl =\n",
              "        document.querySelector('#' + key + ' button');\n",
              "      quickchartButtonEl.disabled = true;  // To prevent multiple clicks.\n",
              "      quickchartButtonEl.classList.add('colab-df-spinner');\n",
              "      try {\n",
              "        const charts = await google.colab.kernel.invokeFunction(\n",
              "            'suggestCharts', [key], {});\n",
              "      } catch (error) {\n",
              "        console.error('Error during call to suggestCharts:', error);\n",
              "      }\n",
              "      quickchartButtonEl.classList.remove('colab-df-spinner');\n",
              "      quickchartButtonEl.classList.add('colab-df-quickchart-complete');\n",
              "    }\n",
              "    (() => {\n",
              "      let quickchartButtonEl =\n",
              "        document.querySelector('#df-be9ad9be-034b-485a-a10b-522924a78b91 button');\n",
              "      quickchartButtonEl.style.display =\n",
              "        google.colab.kernel.accessAllowed ? 'block' : 'none';\n",
              "    })();\n",
              "  </script>\n",
              "</div>\n",
              "\n",
              "    </div>\n",
              "  </div>\n"
            ],
            "application/vnd.google.colaboratory.intrinsic+json": {
              "type": "dataframe",
              "variable_name": "full_data",
              "summary": "{\n  \"name\": \"full_data\",\n  \"rows\": 5000,\n  \"fields\": [\n    {\n      \"column\": \"transaction_id\",\n      \"properties\": {\n        \"dtype\": \"number\",\n        \"std\": 1443,\n        \"min\": 1,\n        \"max\": 5000,\n        \"num_unique_values\": 5000,\n        \"samples\": [\n          1502,\n          2587,\n          2654\n        ],\n        \"semantic_type\": \"\",\n        \"description\": \"\"\n      }\n    },\n    {\n      \"column\": \"customer_id\",\n      \"properties\": {\n        \"dtype\": \"number\",\n        \"std\": 287,\n        \"min\": 1,\n        \"max\": 1000,\n        \"num_unique_values\": 989,\n        \"samples\": [\n          517,\n          945,\n          436\n        ],\n        \"semantic_type\": \"\",\n        \"description\": \"\"\n      }\n    },\n    {\n      \"column\": \"transaction_date\",\n      \"properties\": {\n        \"dtype\": \"date\",\n        \"min\": \"2021-08-05 00:00:00\",\n        \"max\": \"2024-07-14 00:00:00\",\n        \"num_unique_values\": 885,\n        \"samples\": [\n          \"2024-06-27 00:00:00\",\n          \"2023-01-30 00:00:00\",\n          \"2022-07-23 00:00:00\"\n        ],\n        \"semantic_type\": \"\",\n        \"description\": \"\"\n      }\n    },\n    {\n      \"column\": \"transaction_status\",\n      \"properties\": {\n        \"dtype\": \"category\",\n        \"num_unique_values\": 2,\n        \"samples\": [\n          \"burned\",\n          \"subscribed\"\n        ],\n        \"semantic_type\": \"\",\n        \"description\": \"\"\n      }\n    },\n    {\n      \"column\": \"coupon_name\",\n      \"properties\": {\n        \"dtype\": \"string\",\n        \"num_unique_values\": 5000,\n        \"samples\": [\n          \"Kij-057\",\n          \"DEj-145\"\n        ],\n        \"semantic_type\": \"\",\n        \"description\": \"\"\n      }\n    },\n    {\n      \"column\": \"burn_date\",\n      \"properties\": {\n        \"dtype\": \"date\",\n        \"min\": \"2021-08-14 00:00:00\",\n        \"max\": \"2024-10-08 00:00:00\",\n        \"num_unique_values\": 789,\n        \"samples\": [\n          \"2022-10-28 00:00:00\",\n          \"2024-05-06 00:00:00\"\n        ],\n        \"semantic_type\": \"\",\n        \"description\": \"\"\n      }\n    },\n    {\n      \"column\": \"branch_id\",\n      \"properties\": {\n        \"dtype\": \"number\",\n        \"std\": 2,\n        \"min\": 1,\n        \"max\": 10,\n        \"num_unique_values\": 10,\n        \"samples\": [\n          3,\n          5\n        ],\n        \"semantic_type\": \"\",\n        \"description\": \"\"\n      }\n    },\n    {\n      \"column\": \"merchant_id_x\",\n      \"properties\": {\n        \"dtype\": \"number\",\n        \"std\": 4,\n        \"min\": 7,\n        \"max\": 20,\n        \"num_unique_values\": 8,\n        \"samples\": [\n          9,\n          11\n        ],\n        \"semantic_type\": \"\",\n        \"description\": \"\"\n      }\n    },\n    {\n      \"column\": \"merchant_id_y\",\n      \"properties\": {\n        \"dtype\": \"number\",\n        \"std\": 4,\n        \"min\": 7,\n        \"max\": 20,\n        \"num_unique_values\": 8,\n        \"samples\": [\n          9,\n          11\n        ],\n        \"semantic_type\": \"\",\n        \"description\": \"\"\n      }\n    },\n    {\n      \"column\": \"join_date\",\n      \"properties\": {\n        \"dtype\": \"date\",\n        \"min\": \"2021-07-18 00:00:00\",\n        \"max\": \"2024-07-13 00:00:00\",\n        \"num_unique_values\": 648,\n        \"samples\": [\n          \"2022-07-22 00:00:00\",\n          \"2022-12-02 00:00:00\"\n        ],\n        \"semantic_type\": \"\",\n        \"description\": \"\"\n      }\n    },\n    {\n      \"column\": \"city_id\",\n      \"properties\": {\n        \"dtype\": \"number\",\n        \"std\": 5,\n        \"min\": 1,\n        \"max\": 20,\n        \"num_unique_values\": 20,\n        \"samples\": [\n          15,\n          10\n        ],\n        \"semantic_type\": \"\",\n        \"description\": \"\"\n      }\n    },\n    {\n      \"column\": \"gender_id\",\n      \"properties\": {\n        \"dtype\": \"number\",\n        \"std\": 0,\n        \"min\": 1,\n        \"max\": 2,\n        \"num_unique_values\": 2,\n        \"samples\": [\n          1,\n          2\n        ],\n        \"semantic_type\": \"\",\n        \"description\": \"\"\n      }\n    },\n    {\n      \"column\": \"gender_name_x\",\n      \"properties\": {\n        \"dtype\": \"category\",\n        \"num_unique_values\": 2,\n        \"samples\": [\n          \"Male\",\n          \"Female\"\n        ],\n        \"semantic_type\": \"\",\n        \"description\": \"\"\n      }\n    },\n    {\n      \"column\": \"city_name_x\",\n      \"properties\": {\n        \"dtype\": \"category\",\n        \"num_unique_values\": 20,\n        \"samples\": [\n          \"Aswan\",\n          \"Asyut\"\n        ],\n        \"semantic_type\": \"\",\n        \"description\": \"\"\n      }\n    },\n    {\n      \"column\": \"gender_name_y\",\n      \"properties\": {\n        \"dtype\": \"category\",\n        \"num_unique_values\": 2,\n        \"samples\": [\n          \"Male\",\n          \"Female\"\n        ],\n        \"semantic_type\": \"\",\n        \"description\": \"\"\n      }\n    },\n    {\n      \"column\": \"city_name_y\",\n      \"properties\": {\n        \"dtype\": \"category\",\n        \"num_unique_values\": 20,\n        \"samples\": [\n          \"Aswan\",\n          \"Asyut\"\n        ],\n        \"semantic_type\": \"\",\n        \"description\": \"\"\n      }\n    }\n  ]\n}"
            }
          },
          "metadata": {},
          "execution_count": 39
        }
      ]
    },
    {
      "cell_type": "markdown",
      "source": [
        "**Customer Distribution Analysis by Gender and** **City**"
      ],
      "metadata": {
        "id": "ynTvtzyQzcwV"
      }
    },
    {
      "cell_type": "code",
      "source": [
        "import matplotlib.pyplot as plt\n",
        "import seaborn as sns"
      ],
      "metadata": {
        "id": "JyMgIHcLz0T1"
      },
      "execution_count": 40,
      "outputs": []
    },
    {
      "cell_type": "code",
      "source": [
        "# Gender distribution\n",
        "plt.figure(figsize=(6, 4))\n",
        "sns.countplot(data=full_data, x=\"gender_id\", palette=\"coolwarm\")\n",
        "plt.title(\"Distribution of Customers by Gender\")\n",
        "plt.show()"
      ],
      "metadata": {
        "colab": {
          "base_uri": "https://localhost:8080/",
          "height": 517
        },
        "id": "y1AA4U6Gz0aZ",
        "outputId": "c7460597-18b4-4526-afc7-addd461a776d"
      },
      "execution_count": 43,
      "outputs": [
        {
          "output_type": "stream",
          "name": "stderr",
          "text": [
            "<ipython-input-43-0c97ce60e872>:3: FutureWarning: \n",
            "\n",
            "Passing `palette` without assigning `hue` is deprecated and will be removed in v0.14.0. Assign the `x` variable to `hue` and set `legend=False` for the same effect.\n",
            "\n",
            "  sns.countplot(data=full_data, x=\"gender_id\", palette=\"coolwarm\")\n"
          ]
        },
        {
          "output_type": "display_data",
          "data": {
            "text/plain": [
              "<Figure size 600x400 with 1 Axes>"
            ],
            "image/png": "[encoded data removed]"
          },
          "metadata": {}
        }
      ]
    },
    {
      "cell_type": "code",
      "source": [
        "# ciry distribution\n",
        "plt.figure(figsize=(8, 4))\n",
        "sns.countplot(data=full_data, y=\"city_id\", palette=\"viridis\")\n",
        "plt.title(\"Distribution of Customers by City\")\n",
        "plt.show()"
      ],
      "metadata": {
        "colab": {
          "base_uri": "https://localhost:8080/",
          "height": 517
        },
        "id": "6KbaWby6z0hq",
        "outputId": "f4576764-f7f9-4034-e59b-02bd3736ebe9"
      },
      "execution_count": 45,
      "outputs": [
        {
          "output_type": "stream",
          "name": "stderr",
          "text": [
            "<ipython-input-45-17e6790e9516>:3: FutureWarning: \n",
            "\n",
            "Passing `palette` without assigning `hue` is deprecated and will be removed in v0.14.0. Assign the `y` variable to `hue` and set `legend=False` for the same effect.\n",
            "\n",
            "  sns.countplot(data=full_data, y=\"city_id\", palette=\"viridis\")\n"
          ]
        },
        {
          "output_type": "display_data",
          "data": {
            "text/plain": [
              "<Figure size 800x400 with 1 Axes>"
            ],
            "image/png": "[encoded data removed]"
          },
          "metadata": {}
        }
      ]
    },
    {
      "cell_type": "markdown",
      "source": [
        "**Analysis of coupon usage over time**"
      ],
      "metadata": {
        "id": "16cU5QuZ0aqM"
      }
    },
    {
      "cell_type": "code",
      "source": [
        "#Convert a date column to datetime type\n",
        "full_data[\"transaction_date\"] = pd.to_datetime(full_data[\"transaction_date\"])"
      ],
      "metadata": {
        "id": "Z5-IMbX90hNx"
      },
      "execution_count": 46,
      "outputs": []
    },
    {
      "cell_type": "code",
      "source": [
        "# Calculate the number of transactions per month\n",
        "monthly_usage = full_data.groupby(full_data[\"transaction_date\"].dt.to_period(\"M\")).size()"
      ],
      "metadata": {
        "id": "LuNMT_Ga0hWn"
      },
      "execution_count": 47,
      "outputs": []
    },
    {
      "cell_type": "code",
      "source": [
        "# Draw a timeline\n",
        "plt.figure(figsize=(10, 4))\n",
        "monthly_usage.plot(marker=\"o\", linestyle=\"-\")\n",
        "plt.title(\"Coupon Usage Over Time\")\n",
        "plt.xlabel(\"Month\")\n",
        "plt.ylabel(\"Number of Transactions\")\n",
        "plt.grid(True)\n",
        "plt.show()"
      ],
      "metadata": {
        "colab": {
          "base_uri": "https://localhost:8080/",
          "height": 426
        },
        "id": "VqiWqZH61Btg",
        "outputId": "8c7d11b1-5af1-4d1c-c5eb-8cacb77d4386"
      },
      "execution_count": 48,
      "outputs": [
        {
          "output_type": "display_data",
          "data": {
            "text/plain": [
              "<Figure size 1000x400 with 1 Axes>"
            ],
            "image/png": "[encoded data removed]"
          },
          "metadata": {}
        }
      ]
    },
    {
      "cell_type": "markdown",
      "source": [],
      "metadata": {
        "id": "NqlvPqKw1sQ8"
      }
    },
    {
      "cell_type": "code",
      "source": [
        "# Calculate the coupon burn rate for each city.\n",
        "burn_rates = full_data[full_data[\"transaction_status\"] == \"burnt\"].groupby(\"city_name\").size()"
      ],
      "metadata": {
        "id": "nIy2aZC11sa9"
      },
      "execution_count": 68,
      "outputs": []
    },
    {
      "cell_type": "code",
      "source": [
        "# Heat mapping\n",
        "plt.figure(figsize=(8, 5))\n",
        "sns.barplot(x=burn_rates.values, y=burn_rates.index, palette=\"coolwarm\")\n",
        "plt.title(\"Coupon Burn Rates by City\")\n",
        "plt.xlabel(\"Number of Burnt Coupons\")\n",
        "plt.ylabel(\"City\")\n",
        "plt.show()"
      ],
      "metadata": {
        "colab": {
          "base_uri": "https://localhost:8080/",
          "height": 487
        },
        "id": "CItLM9D_1sj1",
        "outputId": "bc7348da-173b-4123-ec71-9d100e091f93"
      },
      "execution_count": 69,
      "outputs": [
        {
          "output_type": "display_data",
          "data": {
            "text/plain": [
              "<Figure size 800x500 with 1 Axes>"
            ],
            "image/png": "[encoded data removed]"
          },
          "metadata": {}
        }
      ]
    },
    {
      "cell_type": "markdown",
      "source": [
        "**Preparing data for k-means use**"
      ],
      "metadata": {
        "id": "P3Ua4Gkv3vq-"
      }
    },
    {
      "cell_type": "code",
      "source": [
        "from sklearn.preprocessing import StandardScaler\n",
        "\n",
        "# Create a copy of the data for the fragmentation process\n",
        "segmentation_data = full_data.copy()"
      ],
      "metadata": {
        "id": "I8wSFFkN35rF"
      },
      "execution_count": 70,
      "outputs": []
    },
    {
      "cell_type": "code",
      "source": [
        "# Calculate coupon usage rate and average retention time per customer\n",
        "segmentation_data[\"coupon_usage_freq\"] = segmentation_data.groupby(\"customer_id\")[\"transaction_id\"].transform(\"count\")\n",
        "segmentation_data[\"avg_burn_days\"] = (segmentation_data[\"burn_date\"] - segmentation_data[\"transaction_date\"]).dt.days\n",
        "segmentation_data[\"avg_burn_days\"] = segmentation_data.groupby(\"customer_id\")[\"avg_burn_days\"].transform(\"mean\")\n"
      ],
      "metadata": {
        "id": "v5pHehmt351l"
      },
      "execution_count": 71,
      "outputs": []
    },
    {
      "cell_type": "code",
      "source": [
        "# Categorical data coding\n",
        "segmentation_data[\"gender_encoded\"] = segmentation_data[\"gender_id\"].astype(\"category\").cat.codes\n",
        "segmentation_data[\"city_encoded\"] = segmentation_data[\"city_id\"].astype(\"category\").cat.codes"
      ],
      "metadata": {
        "id": "NRguPom635-1"
      },
      "execution_count": 74,
      "outputs": []
    },
    {
      "cell_type": "code",
      "source": [
        "# Selecting features for segmentation analysis\n",
        "features = [\"gender_encoded\", \"city_encoded\", \"coupon_usage_freq\", \"avg_burn_days\"]\n",
        "X = segmentation_data[features]"
      ],
      "metadata": {
        "id": "wS27d0LE4gEv"
      },
      "execution_count": 75,
      "outputs": []
    },
    {
      "cell_type": "code",
      "source": [
        "# Data unification\n",
        "scaler = StandardScaler()\n",
        "X_scaled = scaler.fit_transform(X)"
      ],
      "metadata": {
        "id": "5R-cxUlE4gV7"
      },
      "execution_count": 76,
      "outputs": []
    },
    {
      "cell_type": "markdown",
      "source": [
        "**Select the optimal number of groups**"
      ],
      "metadata": {
        "id": "4OQygG9B5QVK"
      }
    },
    {
      "cell_type": "code",
      "source": [
        "from os import X_OK\n",
        "from sklearn.cluster import KMeans\n",
        "from sklearn.metrics import silhouette_score\n",
        "\n",
        "silhouette_scores = {}\n",
        "for k in range(2, 6):\n",
        "    kmeans = KMeans(n_clusters=k, random_state=42, n_init=10)\n",
        "    clusters = KMeans.fit_predict(X_scaled)\n",
        "    score = silhouette_score(X_scaled, clusters)\n",
        "    silhouette_scores[k] = score"
      ],
      "metadata": {
        "id": "Pjyu_0xX54mU"
      },
      "execution_count": null,
      "outputs": []
    },
    {
      "cell_type": "code",
      "source": [
        "best_k = max(silhouette_scores, key=silhouette_scores.get)\n",
        "print(f\"the best number: {best_k}\")"
      ],
      "metadata": {
        "id": "eOVYQU3_7VtJ"
      },
      "execution_count": null,
      "outputs": []
    },
    {
      "cell_type": "markdown",
      "source": [
        "**K-MEANS**"
      ],
      "metadata": {
        "id": "kBZnX4nv7fW2"
      }
    },
    {
      "cell_type": "code",
      "source": [
        "#  K-Means\n",
        "final_kmeans = KMeans(n_clusters=best_k, random_state=42, n_init=10)\n",
        "segmentation_data[\"Cluster\"] = final_kmeans.fit_predict(X_scaled)"
      ],
      "metadata": {
        "id": "Gt1WqR1-7jlj"
      },
      "execution_count": null,
      "outputs": []
    },
    {
      "cell_type": "code",
      "source": [
        "# Analysis of the characteristics of each group\n",
        "cluster_summary = segmentation_data.groupby(\"Cluster\")[features].mean()\n",
        "cluster_summary"
      ],
      "metadata": {
        "id": "dM39_-IC771w"
      },
      "execution_count": null,
      "outputs": []
    },
    {
      "cell_type": "markdown",
      "source": [
        "**Visually analyze slides**"
      ],
      "metadata": {
        "id": "F3O384SF9gQL"
      }
    },
    {
      "cell_type": "code",
      "source": [
        "plt.figure(figsize=(8, 5))\n",
        "sns.countplot(x=segmentation_data[\"Cluster\"], palette=\"viridis\")\n",
        "plt.title(\"Distribution of Customers Across Clusters\")\n",
        "plt.xlabel(\"Cluster\")\n",
        "plt.ylabel(\"Number of Customers\")\n",
        "plt.show()"
      ],
      "metadata": {
        "id": "gHXCy2N286PB"
      },
      "execution_count": null,
      "outputs": []
    },
    {
      "cell_type": "markdown",
      "source": [
        "**Average coupon usage analysis for each grou**"
      ],
      "metadata": {
        "id": "JFBRb-4292xo"
      }
    },
    {
      "cell_type": "code",
      "source": [
        "import numpy as np\n",
        "usage_analysis = segmentation_data.groupby(\"Cluster\")[[\"coupon_usage_freq\", \"avg_burn_days\"]].mean()\n",
        "plt.figure(figsize=(8, 5))\n",
        "sns.barplot(x=usage_analysis.index, y=usage_analysis[\"coupon_usage_freq\"], palette=\"viridis\")\n",
        "plt.title(\"Average Coupon Usage Frequency per Cluster\")\n",
        "plt.xlabel(\"Cluster\")\n",
        "plt.ylabel(\"Average Coupon Usage\")\n",
        "plt.show()"
      ],
      "metadata": {
        "id": "5rw_RMrd-Hgs"
      },
      "execution_count": null,
      "outputs": []
    },
    {
      "cell_type": "markdown",
      "source": [
        "**Analysis of the average retention time of coupons before burning them**"
      ],
      "metadata": {
        "id": "buky6NPt-VL2"
      }
    },
    {
      "cell_type": "code",
      "source": [
        "plt.figure(figsize=(8, 5))\n",
        "sns.barplot(x=usage_analysis.index, y=usage_analysis[\"avg_burn_days\"], palette=\"coolwarm\")\n",
        "plt.title(\"Average Days Before Burning Coupons per Cluster\")\n",
        "plt.xlabel(\"Cluster\")\n",
        "plt.ylabel(\"Average Days to Burn Coupon\")\n",
        "plt.show()"
      ],
      "metadata": {
        "id": "ZxRhklLY-Vqf"
      },
      "execution_count": null,
      "outputs": []
    }
  ]
}